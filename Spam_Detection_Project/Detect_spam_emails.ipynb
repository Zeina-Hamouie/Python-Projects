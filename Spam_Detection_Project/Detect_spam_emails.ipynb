{
 "cells": [
  {
   "cell_type": "code",
   "execution_count": 1,
   "id": "459bf871-d161-4a72-b810-d086cb9769fc",
   "metadata": {},
   "outputs": [],
   "source": [
    "import pandas as pd"
   ]
  },
  {
   "cell_type": "code",
   "execution_count": 2,
   "id": "272d4f68-c42e-46d1-a028-d6dd19632755",
   "metadata": {},
   "outputs": [
    {
     "data": {
      "text/html": [
       "<div>\n",
       "<style scoped>\n",
       "    .dataframe tbody tr th:only-of-type {\n",
       "        vertical-align: middle;\n",
       "    }\n",
       "\n",
       "    .dataframe tbody tr th {\n",
       "        vertical-align: top;\n",
       "    }\n",
       "\n",
       "    .dataframe thead th {\n",
       "        text-align: right;\n",
       "    }\n",
       "</style>\n",
       "<table border=\"1\" class=\"dataframe\">\n",
       "  <thead>\n",
       "    <tr style=\"text-align: right;\">\n",
       "      <th></th>\n",
       "      <th>Category</th>\n",
       "      <th>Message</th>\n",
       "    </tr>\n",
       "  </thead>\n",
       "  <tbody>\n",
       "    <tr>\n",
       "      <th>0</th>\n",
       "      <td>ham</td>\n",
       "      <td>Go until jurong point, crazy.. Available only ...</td>\n",
       "    </tr>\n",
       "    <tr>\n",
       "      <th>1</th>\n",
       "      <td>ham</td>\n",
       "      <td>Ok lar... Joking wif u oni...</td>\n",
       "    </tr>\n",
       "    <tr>\n",
       "      <th>2</th>\n",
       "      <td>spam</td>\n",
       "      <td>Free entry in 2 a wkly comp to win FA Cup fina...</td>\n",
       "    </tr>\n",
       "    <tr>\n",
       "      <th>3</th>\n",
       "      <td>ham</td>\n",
       "      <td>U dun say so early hor... U c already then say...</td>\n",
       "    </tr>\n",
       "    <tr>\n",
       "      <th>4</th>\n",
       "      <td>ham</td>\n",
       "      <td>Nah I don't think he goes to usf, he lives aro...</td>\n",
       "    </tr>\n",
       "  </tbody>\n",
       "</table>\n",
       "</div>"
      ],
      "text/plain": [
       "  Category                                            Message\n",
       "0      ham  Go until jurong point, crazy.. Available only ...\n",
       "1      ham                      Ok lar... Joking wif u oni...\n",
       "2     spam  Free entry in 2 a wkly comp to win FA Cup fina...\n",
       "3      ham  U dun say so early hor... U c already then say...\n",
       "4      ham  Nah I don't think he goes to usf, he lives aro..."
      ]
     },
     "execution_count": 2,
     "metadata": {},
     "output_type": "execute_result"
    }
   ],
   "source": [
    "# تحميل البيانات\n",
    "df = pd.read_csv(r\"C:\\Users\\Zeina Hamouie\\Downloads\\spam-text.csv\")\n",
    "df.head()"
   ]
  },
  {
   "cell_type": "code",
   "execution_count": 3,
   "id": "ba2fe18e-c60e-4bbd-883f-31eb097fa6d2",
   "metadata": {},
   "outputs": [
    {
     "name": "stdout",
     "output_type": "stream",
     "text": [
      "\n",
      "معلومات عامة عن البيانات:\n",
      "<class 'pandas.core.frame.DataFrame'>\n",
      "RangeIndex: 5572 entries, 0 to 5571\n",
      "Data columns (total 2 columns):\n",
      " #   Column    Non-Null Count  Dtype \n",
      "---  ------    --------------  ----- \n",
      " 0   Category  5572 non-null   object\n",
      " 1   Message   5572 non-null   object\n",
      "dtypes: object(2)\n",
      "memory usage: 87.2+ KB\n",
      "None\n"
     ]
    }
   ],
   "source": [
    "# عرض معلومات عامة عن البيانات (عدد الصفوف والأعمدة، أنواع البيانات، القيم المفقودة)\n",
    "print('\\nمعلومات عامة عن البيانات:')\n",
    "print(df.info())"
   ]
  },
  {
   "cell_type": "code",
   "execution_count": 4,
   "id": "42894817-f162-43f7-98b4-f10999eb0d87",
   "metadata": {},
   "outputs": [
    {
     "name": "stdout",
     "output_type": "stream",
     "text": [
      "\n",
      "الإحصائيات الوصفية للبيانات:\n",
      "       Category                 Message\n",
      "count      5572                    5572\n",
      "unique        2                    5157\n",
      "top         ham  Sorry, I'll call later\n",
      "freq       4825                      30\n"
     ]
    }
   ],
   "source": [
    "# عرض الإحصائيات الوصفية للبيانات\n",
    "print('\\nالإحصائيات الوصفية للبيانات:')\n",
    "print(df.describe())"
   ]
  },
  {
   "cell_type": "code",
   "execution_count": 5,
   "id": "876a8685-e35e-426f-b57f-be031b1ddef5",
   "metadata": {},
   "outputs": [
    {
     "name": "stdout",
     "output_type": "stream",
     "text": [
      "Category    0\n",
      "Message     0\n",
      "dtype: int64\n"
     ]
    }
   ],
   "source": [
    "# فحص القيم الفارغة\n",
    "print(df.isnull().sum())"
   ]
  },
  {
   "cell_type": "code",
   "execution_count": 6,
   "id": "b274bcf2-f65d-46b7-8be0-5a6d915ee23e",
   "metadata": {},
   "outputs": [
    {
     "name": "stdout",
     "output_type": "stream",
     "text": [
      "\n",
      "عدد الصفوف المكررة قبل الإزالة: 415\n"
     ]
    }
   ],
   "source": [
    "# التحقق من وجود قيم مكررة\n",
    "print(\"\\nعدد الصفوف المكررة قبل الإزالة:\", df.duplicated().sum())"
   ]
  },
  {
   "cell_type": "code",
   "execution_count": 7,
   "id": "160d6330-3d9a-4203-872a-25d6a55698fb",
   "metadata": {},
   "outputs": [
    {
     "name": "stdout",
     "output_type": "stream",
     "text": [
      "عدد الصفوف بعد إزالة المكررة: 5157\n"
     ]
    }
   ],
   "source": [
    "# إزالة الصفوف المكررة\n",
    "df.drop_duplicates(inplace=True)\n",
    "# التحقق بعد الإزالة\n",
    "print(\"عدد الصفوف بعد إزالة المكررة:\", len(df))"
   ]
  },
  {
   "cell_type": "markdown",
   "id": "a26d53c4-d92c-40c7-ac0a-f74ddf1eda85",
   "metadata": {},
   "source": [
    "لماذا تم حذف هذه الصفوف المكررة؟\r\n",
    " لأن وجود البيانات المكررة يمكن أن يؤدي إلى نتائج غير دقيقة عند بناء نموذج تعلم آلي \r\n",
    "التحيز: إذا تكررت رسالة معينة (مثل \"مكافأة فورية!\") 100 مرة، سيعتقد النموذج أن هذا النوع من الرسائل شائع جدًا وله أهمية أكبر مما يستحق. \r\n",
    "هذا يجعل النموذج متحيزًا تجاه هذه الرسالة، وقد يصنفها بشكل خاطئ أو يعطيها وزنًا غير حقيقي. \r\n",
    "تضخيم الأداء: عند تقييم أداء النموذج، قد يبدو أنه جيد جدًا لأنه يتعرف على هذه الرسائل المكررة بسهولة. لكن هذا الأداء يكون مزيفًا، لأنه لم يتم اختباره على بيانات جديدة وفريدة تدهور \r\n",
    "جودة البيانات: البيانات المكررة لا تضيف أي معلومات جديدة للنموذج. هي مجرد تكرار لمعلومات موجودة بالفعل، مما يجعل مجموعة البيانات أكبر حجمًا بدون فائدة حقيقية\r\n"
   ]
  },
  {
   "cell_type": "code",
   "execution_count": 8,
   "id": "291f60f5-a2ca-4f98-9654-1082dfd54d64",
   "metadata": {},
   "outputs": [
    {
     "name": "stdout",
     "output_type": "stream",
     "text": [
      "\n",
      "توزيع الفئات:\n",
      "Category\n",
      "ham     4516\n",
      "spam     641\n",
      "Name: count, dtype: int64\n"
     ]
    }
   ],
   "source": [
    "# التحقق من توزيع الفئات (spam/ham)\n",
    "print(\"\\nتوزيع الفئات:\")\n",
    "print(df[\"Category\"].value_counts())"
   ]
  },
  {
   "cell_type": "code",
   "execution_count": 9,
   "id": "bb978019-2dfa-4295-93de-42095c541acb",
   "metadata": {},
   "outputs": [
    {
     "data": {
      "image/png": "[encoded data removed]",
      "text/plain": [
       "<Figure size 600x400 with 1 Axes>"
      ]
     },
     "metadata": {},
     "output_type": "display_data"
    }
   ],
   "source": [
    "import matplotlib.pyplot as plt\n",
    "import seaborn as sns\n",
    "\n",
    "# تمثيل توزيع الفئات بيانيًا\n",
    "plt.figure(figsize=(6, 4))\n",
    "sns.countplot(x='Category', data=df, hue='Category', palette='viridis', legend=False)\n",
    "plt.title('Distribution of message categories (Ham vs Spam)')\n",
    "plt.xlabel('Category')\n",
    "plt.ylabel('Count')\n",
    "plt.show()"
   ]
  },
  {
   "cell_type": "markdown",
   "id": "11a02c7c-c176-435c-a38a-79021dda36ec",
   "metadata": {},
   "source": [
    "يوضح الرسم البياني أعلاه التوزيع غير المتوازن للفئات بشكل مرئي. \n",
    "نرى بوضوح أن عدد رسائل ham (غير المزعجة) يفوق بكثير عدد رسائل spam (المزعجة). هذا يستدعي الانتباه عند اختيار مقاييس التقييم للنموذج (مثل F1-score أو (Precision/Recall بدلاً من الدقة البسيطة Accuracy هذه المقاييس تعطي صورة أكثر واقعية عن أداء النموذج، خاصة مع الفئات الأقل عددًا، وتكشف إن كان النموذج يفشل في التعرف على الفئة التي تهمنا في هذه الحالة رسائل spam\n"
   ]
  },
  {
   "cell_type": "code",
   "execution_count": 10,
   "id": "d7e35d47-0f39-4d60-8ece-6ea33a517082",
   "metadata": {},
   "outputs": [],
   "source": [
    "# إضافة عمود جديد لطول الرسالة\n",
    "df[\"Message_Length\"] = df[\"Message\"].apply(len)"
   ]
  },
  {
   "cell_type": "markdown",
   "id": "d0ebed58-5583-40c4-9794-e11833d7d98d",
   "metadata": {},
   "source": [
    "هل يجب أن نحسب طول الرسالة بعد تنظيفها أم قبل ذلك؟\r\n",
    "في حالتنا، من الأفضل حساب طول الرسالة قبل تنظيفها و السبب:\r\n",
    "القيمة التنبؤية لطول الرسالة الخام (Raw Length)\r\n",
    "الهدف من ميزة Message_Length هو قياس الكمية الإجمالية للمعلومات في الرسالة، بما في ذلك الأرقام، علامات الترقيم، والمسافات الزائدة. هذه العناصر، على الرغم من أنها قد تُزال في مرحلة TF-IDF، إلا أنها قد تكون مؤشرًا قويًا على أن الرسالة هي رسالة مزعجة (spam).\r\n",
    "رسائل البريد المزعج (Spam): غالبًا ما تستخدم أرقامًا (مثل أرقام الهواتف أو الرموز الترويجية)، علامات ترقيم متعددة (مثل !!! أو $$$)، ومساحات زائدة لجذب الانتباه. هذه العناصر تزيد من طول الرسالة الخام.\r\n",
    "الرسائل العادية (Ham): تكون عادةً أكثر بساطة، بأرقام وعلامات ترقيم أقل، ومسافات منظمة.\r\n",
    "إذا قمت بحساب الطول بعد تنظيف الرسالة (إزالة الأرقام، علامات الترقيم، والمسافات الزائدة)، فإني سأفقد هذه المعلومات القيمة. ستبدو رسالة \"Winner! Get $100,000 now!!!\" ورسالة \"Winner\" بنفس الطول تقريباً، مما يفقد النموذج مؤشرًا قويًا للتصنيف.\r\n"
   ]
  },
  {
   "cell_type": "code",
   "execution_count": 11,
   "id": "74ed8a60-de2c-42fb-baed-7548967e475a",
   "metadata": {},
   "outputs": [
    {
     "name": "stdout",
     "output_type": "stream",
     "text": [
      "\n",
      "الإحصائيات الوصفية لطول الرسالة حسب الفئة:\n",
      "\n",
      "           count        mean        std  min    25%    50%    75%    max\n",
      "Category                                                                \n",
      "ham       4516.0   70.869353  56.708301  2.0   34.0   53.0   91.0  910.0\n",
      "spam       641.0  137.118565  30.399707  7.0  130.0  148.0  157.0  223.0\n"
     ]
    }
   ],
   "source": [
    "# عرض الإحصائيات الوصفية لطول الرسالة لكل فئة\n",
    "print(\"\\nالإحصائيات الوصفية لطول الرسالة حسب الفئة:\\n\")\n",
    "print(df.groupby(\"Category\")[\"Message_Length\"].describe())"
   ]
  },
  {
   "cell_type": "markdown",
   "id": "ab944440-ee33-4810-9e2d-e5dde8780257",
   "metadata": {},
   "source": [
    "النتائج تُظهر إحصائيات طول الرسائل (Message_Length) لكل من فئتي ham و spam بشكل منفصل. \n",
    "لدينا 4516 رسالة عادية و641 رسالة مزعجة \n",
    "المتوسط: متوسط طول الرسائل العادية هو 70.86 حرفًا بينما متوسط طول الرسائل المزعجة هو 137.11 حرفًا. هذا هو الاستنتاج الأهم، متوسط طول رسائل spam هو ضعف متوسط طول رسائل ham \n",
    "الانحراف المعياري: مدى تشتت الأطوال عن المتوسط. ham: لديها انحراف معياري كبير (56.7)، مما يعني أن أطوال الرسائل العادية تتنوع بشكل كبير (بعضها قصير جدًا وبعضها طويل جدًا ( بينما  Spam  لديها انحراف معياري أقل (30.3)، مما يعني أن أطوال الرسائل المزعجة أكثر تشابهًا وتتجمع حول المتوسط. \n",
    "كيف يمكنني الاستفادة من هذه النتائج؟\n",
    "هذه النتائج تُعطينا ميزة كبيرة عند بناء النموذج. بما أن هناك فرقًا واضحًا في متوسط طول الرسائل بين الفئتين، فإن طول الرسالة يعتبر مؤشرًا جيدًا للتنبؤ. يمكنني استخدام طول الرسالة كميزة (feature) إضافية لتديب النموذج\n"
   ]
  },
  {
   "cell_type": "code",
   "execution_count": 12,
   "id": "912d733b-87d7-47e1-a521-1f91cba03697",
   "metadata": {},
   "outputs": [
    {
     "data": {
      "image/png": "[encoded data removed]",
      "text/plain": [
       "<Figure size 1200x600 with 1 Axes>"
      ]
     },
     "metadata": {},
     "output_type": "display_data"
    }
   ],
   "source": [
    "# تمثيل توزيع طول الرسائل لكل فئة بيانيًا\n",
    "plt.figure(figsize=(12, 6))\n",
    "sns.histplot(data=df, x=\"Message_Length\", hue=\"Category\", kde=True, palette=\"magma\",bins=50)\n",
    "plt.title(\"Distribution of message length by category(Ham vs Spam)\")\n",
    "plt.xlabel(\"Message length\")\n",
    "plt.ylabel(\"Count\")\n",
    "plt.show()"
   ]
  },
  {
   "cell_type": "code",
   "execution_count": 13,
   "id": "0bb7cacc-e788-4f00-a8de-b85a1e0d77e3",
   "metadata": {},
   "outputs": [
    {
     "data": {
      "image/png": "[encoded data removed]",
      "text/plain": [
       "<Figure size 1500x600 with 2 Axes>"
      ]
     },
     "metadata": {},
     "output_type": "display_data"
    }
   ],
   "source": [
    "import matplotlib.pyplot as plt\n",
    "import seaborn as sns\n",
    "\n",
    "# إنشاء إطارين للرسم البياني (مخططين) في صف واحد\n",
    "fig, axes = plt.subplots(1, 2, figsize=(15, 6))\n",
    "\n",
    "# المخطط الأول: لرسائل ham\n",
    "sns.histplot(data=df[df['Category'] == 'ham'], x=\"Message_Length\", kde=True, ax=axes[0], color='purple',bins=30)\n",
    "axes[0].set_title(\"Distribution of Message Length (Ham)\")\n",
    "axes[0].set_xlabel(\"Message Length\")\n",
    "axes[0].set_ylabel(\"Count\")\n",
    "\n",
    "# المخطط الثاني: لرسائل spam\n",
    "sns.histplot(data=df[df['Category'] == 'spam'], x=\"Message_Length\", kde=True, ax=axes[1], color='pink',bins=30)\n",
    "axes[1].set_title(\"Distribution of Message Length (Spam)\")\n",
    "axes[1].set_xlabel(\"Message Length\")\n",
    "axes[1].set_ylabel(\"Count\")\n",
    "\n",
    "# تعديل المسافات بين المخططات\n",
    "plt.tight_layout()\n",
    "\n",
    "# عرض المخططات\n",
    "plt.show()"
   ]
  },
  {
   "cell_type": "markdown",
   "id": "e658361a-41b4-487f-80d9-6f38ec1a76fd",
   "metadata": {},
   "source": [
    "تفسير المخطط الأول لرسائل Ham - على اليسار-  شكل التوزيع: \r\n",
    "التوزيع هنا منحرف بشدة نحو اليمين (Right-skewed) \r\n",
    "القمة الرئيسية للمخطط تقع عند نقطة قريبة جدًا من الصفر، مما يدل على أن العدد الأكبر من رسائل ham هي رسائل قصيرة جدًا. الذيل (Tail): يمتد التوزيع على نطاق واسع جدًا ليشمل رسائل طويلة، لكن عدد هذه الرسائل الطويلة يقل بشكل كبير كلما زاد الطول.\r\n",
    "الاستنتاج: معظم الرسائل العادية قصيرة، لكن هناك مجموعة صغيرة من الرسائل العادية يمكن أن تكون طويلة جدًا. \r\n",
    "تفسير المخطط الثاني (لرسائل Spam - على اليمين): شكل التوزيع: التوزيع هنا يشبه إلى حد كبير التوزيع الطبيعي (Normal Distribution) وهو أكثر تماثلًا من مخطط ham\r\n",
    " القمة (Peak): القمة الرئيسية للمخطط تقع عند نقطة تتراوح بين 150 و 175 حرفًا تقريبًا. هذا يدل على أن أطوال الرسائل المزعجة تتركز في نطاق معين، وهو أطول بكثير من غالبية رسائل ham\r\n",
    "الذيل (Tail): لا يمتد التوزيع على نطاق واسع جدًا مثل رسائل ham، بل يظل محصورًا في نطاق محدود. \r\n",
    "الاستنتاج: الرسائل المزعجة لها طول \"نموذجي\" أو \"مفضل\" يقع في نطاق متوسط الطول. نادرًا ما تكون الرسائل المزعجة قصيرة جدًا أو طويلة جدًا. هذه الرسوم البيانية المنفصلة تؤكد بشكل قاطع أن طول الرسالة هو ميزة تمييزية قوية جدًا. \r\n",
    "يمكننا أن نستنتج أن أي رسالة قصيرة جدًا (مثلاً، أقل من 50 حرفًا) هي على الأرجح ham. بينما أي رسالة يقع طولها في نطاق 100 إلى 200 حرف (وخاصةً حول 150 حرفًا) هي على أرجح spam.\r\n"
   ]
  },
  {
   "cell_type": "code",
   "execution_count": 14,
   "id": "6b6451ce-019d-4706-bacb-26d8a62a5904",
   "metadata": {},
   "outputs": [
    {
     "data": {
      "text/html": [
       "<div>\n",
       "<style scoped>\n",
       "    .dataframe tbody tr th:only-of-type {\n",
       "        vertical-align: middle;\n",
       "    }\n",
       "\n",
       "    .dataframe tbody tr th {\n",
       "        vertical-align: top;\n",
       "    }\n",
       "\n",
       "    .dataframe thead th {\n",
       "        text-align: right;\n",
       "    }\n",
       "</style>\n",
       "<table border=\"1\" class=\"dataframe\">\n",
       "  <thead>\n",
       "    <tr style=\"text-align: right;\">\n",
       "      <th></th>\n",
       "      <th>Category</th>\n",
       "      <th>Message</th>\n",
       "      <th>Message_Length</th>\n",
       "      <th>Clean_Message</th>\n",
       "    </tr>\n",
       "  </thead>\n",
       "  <tbody>\n",
       "    <tr>\n",
       "      <th>0</th>\n",
       "      <td>ham</td>\n",
       "      <td>Go until jurong point, crazy.. Available only ...</td>\n",
       "      <td>111</td>\n",
       "      <td>go until jurong point crazy available only in ...</td>\n",
       "    </tr>\n",
       "    <tr>\n",
       "      <th>1</th>\n",
       "      <td>ham</td>\n",
       "      <td>Ok lar... Joking wif u oni...</td>\n",
       "      <td>29</td>\n",
       "      <td>ok lar joking wif u oni</td>\n",
       "    </tr>\n",
       "    <tr>\n",
       "      <th>2</th>\n",
       "      <td>spam</td>\n",
       "      <td>Free entry in 2 a wkly comp to win FA Cup fina...</td>\n",
       "      <td>155</td>\n",
       "      <td>free entry in a wkly comp to win fa cup final ...</td>\n",
       "    </tr>\n",
       "    <tr>\n",
       "      <th>3</th>\n",
       "      <td>ham</td>\n",
       "      <td>U dun say so early hor... U c already then say...</td>\n",
       "      <td>49</td>\n",
       "      <td>u dun say so early hor u c already then say</td>\n",
       "    </tr>\n",
       "    <tr>\n",
       "      <th>4</th>\n",
       "      <td>ham</td>\n",
       "      <td>Nah I don't think he goes to usf, he lives aro...</td>\n",
       "      <td>61</td>\n",
       "      <td>nah i dont think he goes to usf he lives aroun...</td>\n",
       "    </tr>\n",
       "  </tbody>\n",
       "</table>\n",
       "</div>"
      ],
      "text/plain": [
       "  Category                                            Message  Message_Length  \\\n",
       "0      ham  Go until jurong point, crazy.. Available only ...             111   \n",
       "1      ham                      Ok lar... Joking wif u oni...              29   \n",
       "2     spam  Free entry in 2 a wkly comp to win FA Cup fina...             155   \n",
       "3      ham  U dun say so early hor... U c already then say...              49   \n",
       "4      ham  Nah I don't think he goes to usf, he lives aro...              61   \n",
       "\n",
       "                                       Clean_Message  \n",
       "0  go until jurong point crazy available only in ...  \n",
       "1                            ok lar joking wif u oni  \n",
       "2  free entry in a wkly comp to win fa cup final ...  \n",
       "3        u dun say so early hor u c already then say  \n",
       "4  nah i dont think he goes to usf he lives aroun...  "
      ]
     },
     "execution_count": 14,
     "metadata": {},
     "output_type": "execute_result"
    }
   ],
   "source": [
    "import string\n",
    "import re\n",
    "# Text Normalization\n",
    "# تنظيف النصوص\n",
    "def clean_text(text):\n",
    "    text = text.lower()\n",
    "    text = re.sub(r'\\d+', '', text)  # إزالة الأرقام\n",
    "    text = text.translate(str.maketrans('', '', string.punctuation))  # إزالة علامات الترقيم\n",
    "    text = re.sub(r'\\s+', ' ', text).strip()  # إزالة المسافات الزائدة\n",
    "    return text\n",
    "\n",
    "df['Clean_Message'] = df['Message'].apply(clean_text)\n",
    "df.head()"
   ]
  },
  {
   "cell_type": "code",
   "execution_count": 15,
   "id": "45a6ba35-873a-4dac-9f3d-57214dcde924",
   "metadata": {},
   "outputs": [],
   "source": [
    "from sklearn.preprocessing import LabelEncoder\n",
    "# تحويل الفئة (Category) من نصية إلى رقمية (ham=0, spam=1)\n",
    "encoder = LabelEncoder()\n",
    "df[\"Category_Encoded\"] = encoder.fit_transform(df[\"Category\"])\n"
   ]
  },
  {
   "cell_type": "code",
   "execution_count": 16,
   "id": "b87c72fd-3da4-4e35-8efa-0aaa5f3df7eb",
   "metadata": {},
   "outputs": [
    {
     "name": "stdout",
     "output_type": "stream",
     "text": [
      "الفئات التي تم ترميزها والترتيب المقابل لها:\n",
      "['ham' 'spam']\n",
      "\n",
      "الخريطة النهائية للترميز:\n",
      "{'ham': 0, 'spam': 1}\n"
     ]
    }
   ],
   "source": [
    "# الآن، لفحص الترميز:\n",
    "print(\"الفئات التي تم ترميزها والترتيب المقابل لها:\")\n",
    "print(encoder.classes_)\n",
    "\n",
    "# يمكنك أيضًا التحقق من الترميز لكل فئة\n",
    "mapping_dict = dict(zip(encoder.classes_, encoder.transform(encoder.classes_)))\n",
    "print(\"\\nالخريطة النهائية للترميز:\")\n",
    "print(mapping_dict)"
   ]
  },
  {
   "cell_type": "code",
   "execution_count": 17,
   "id": "3fd6a1e2-b2a6-461c-bffd-8badcca3b32c",
   "metadata": {},
   "outputs": [],
   "source": [
    "from sklearn.feature_extraction.text import TfidfVectorizer\n",
    "from scipy.sparse import hstack\n",
    "\n",
    "#  تحويل النصوص إلى ميزات رقمية باستخدام TF-IDF\n",
    "tfidf = TfidfVectorizer(stop_words='english', max_features=5000)\n",
    "X_tfidf = tfidf.fit_transform(df[\"Clean_Message\"])\n",
    "\n",
    "#  خطوة جديدة: دمج ميزة الطول مع مصفوفة TF-IDF\n",
    "# نحول عمود الطول إلى مصفوفة متفرقة (sparse matrix)\n",
    "X_length = df[\"Message_Length\"].values.reshape(-1, 1)\n",
    "\n",
    "# دمج مصفوفة TF-IDF مع ميزة طول الرسالة\n",
    "X = hstack([X_tfidf, X_length])\n",
    "y = df[\"Category_Encoded\"]\n"
   ]
  },
  {
   "cell_type": "code",
   "execution_count": 18,
   "id": "38ac389d-b76a-4cff-b31a-517e88a81510",
   "metadata": {},
   "outputs": [
    {
     "name": "stdout",
     "output_type": "stream",
     "text": [
      "شكل مصفوفة الميزات (X): (5157, 5001)\n",
      "شكل متجه الفئات (y): (5157,)\n"
     ]
    }
   ],
   "source": [
    "print(\"شكل مصفوفة الميزات (X):\", X.shape)\n",
    "print(\"شكل متجه الفئات (y):\", y.shape)"
   ]
  },
  {
   "cell_type": "markdown",
   "id": "81cb94ba-4b77-4cd2-95d2-f4e5b5b551cc",
   "metadata": {},
   "source": [
    "شكل مصفوفة الميزات (X): (5157, 5001)\r\n",
    "5157: هذا هو عدد العينات (الرسائل) في مجموعة البيانات الخاصة بنا بعد إزالة التكرارات، وهو متطابق مع عدد الصفوف الذي رأيناه سابقًا. هذا يؤكد أننا لم نفقد أي بيانات في هذه المرحلة.\r\n",
    "5001: هذا هو عدد الميزات الإجمالي. وهو يتكون من:\r\n",
    "5000 ميزة من TfidfVectorizer (لأنكِ حددتِ max_features=5000).\r\n",
    "1 ميزة إضافية وهي Message_Length التي قمتِ بدمجها.\r\n",
    "هذا الشكل يؤكد أن عملية دمج الميزات تمت بنجاح.\r\n",
    "شكل متجه الفئات (y): (5157,)\r\n",
    "هذا الشكل يوضح أن لدينا متجهًا واحدًا يحتوي على 5157 من التصنيفات (labels)، وهو يطابق تمامًا عدد العينات في مصفوفة الميزات X.\r\n"
   ]
  },
  {
   "cell_type": "code",
   "execution_count": 19,
   "id": "d70c871b-7fe1-4fed-9a0d-fbcd5b8efd1c",
   "metadata": {},
   "outputs": [],
   "source": [
    "from sklearn.model_selection import train_test_split\n",
    "# تقسيم البيانات إلى مجموعات تدريب واختبار\n",
    "X_train, X_test, y_train, y_test = train_test_split(X, y, test_size=0.2, random_state=42)"
   ]
  },
  {
   "cell_type": "code",
   "execution_count": 20,
   "id": "0a8e8a9e-a3f5-409d-9d8b-a7da29ebd428",
   "metadata": {},
   "outputs": [
    {
     "name": "stdout",
     "output_type": "stream",
     "text": [
      "شكل مجموعة التدريب (X_train): (4125, 5001)\n",
      "شكل مجموعة الاختبار (X_test): (1032, 5001)\n"
     ]
    }
   ],
   "source": [
    "print(\"شكل مجموعة التدريب (X_train):\", X_train.shape)\n",
    "print(\"شكل مجموعة الاختبار (X_test):\", X_test.shape)"
   ]
  },
  {
   "cell_type": "code",
   "execution_count": 20,
   "id": "64010dfd-3716-4e3b-bdb3-7ef47b09711e",
   "metadata": {},
   "outputs": [
    {
     "name": "stdout",
     "output_type": "stream",
     "text": [
      "بدء تدريب النموذج\n",
      "تم التدريب بنجاح\n",
      "\n",
      "الاحتماليات (Sigmoid): [[0.43119285 0.56880715]\n",
      " [0.1681481  0.8318519 ]\n",
      " [0.94055718 0.05944282]\n",
      " ...\n",
      " [0.96427547 0.03572453]\n",
      " [0.93619353 0.06380647]\n",
      " [0.62852871 0.37147129]]\n"
     ]
    }
   ],
   "source": [
    "from sklearn.linear_model import LogisticRegression\n",
    "\n",
    "# 1. إنشاء نموذج الانحدار اللوجستي\n",
    "# نستخدم class_weight='balanced' للتعامل مع عدم توازن الفئات تلقائياً\n",
    "# solver='liblinear' هو خيار جيد للمصفوفات المتناثرة\n",
    "model = LogisticRegression(class_weight='balanced', solver='liblinear', random_state=42)\n",
    "\n",
    "# 2. تدريب النموذج على بيانات التدريب\n",
    "print(\"بدء تدريب النموذج\")\n",
    "model.fit(X_train, y_train)\n",
    "print(\"تم التدريب بنجاح\\n\")\n",
    "\n",
    "\n",
    "# 3. الحصول على احتمالات التنبؤ (بدلاً من التنبؤات المباشرة)\n",
    "# هذا هو المفتاح لتجربة عتبات مختلفة\n",
    "# predict_proba يعطينا احتمالية كل فئة (مثلاً، [احتمالية ham, احتمالية spam])\n",
    "probas = model.predict_proba(X_test)\n",
    "print(\"الاحتماليات (Sigmoid):\", probas)"
   ]
  },
  {
   "cell_type": "code",
   "execution_count": 22,
   "id": "4ecf9cc4-e57c-4e74-b9c3-349a7973aff8",
   "metadata": {},
   "outputs": [
    {
     "name": "stdout",
     "output_type": "stream",
     "text": [
      "--- تقييم الأداء بناءً على عتبات مختلفة ---\n",
      "\n",
      "الأداء عند العتبة = 0.1:\n",
      "  الدقة (Accuracy):  0.6609\n",
      "  الدقة (Precision): 0.2780\n",
      "  الاستدعاء (Recall): 0.9853\n",
      "  F1-Score:        0.4337\n",
      "\n",
      "الأداء عند العتبة = 0.3:\n",
      "  الدقة (Accuracy):  0.9079\n",
      "  الدقة (Precision): 0.5928\n",
      "  الاستدعاء (Recall): 0.9632\n",
      "  F1-Score:        0.7339\n",
      "\n",
      "الأداء عند العتبة = 0.5:\n",
      "  الدقة (Accuracy):  0.9545\n",
      "  الدقة (Precision): 0.7697\n",
      "  الاستدعاء (Recall): 0.9338\n",
      "  F1-Score:        0.8439\n",
      "\n",
      "الأداء عند العتبة = 0.7:\n",
      "  الدقة (Accuracy):  0.9651\n",
      "  الدقة (Precision): 0.8623\n",
      "  الاستدعاء (Recall): 0.8750\n",
      "  F1-Score:        0.8686\n",
      "\n",
      "الأداء عند العتبة = 0.9:\n",
      "  الدقة (Accuracy):  0.9312\n",
      "  الدقة (Precision): 0.9221\n",
      "  الاستدعاء (Recall): 0.5221\n",
      "  F1-Score:        0.6667\n"
     ]
    }
   ],
   "source": [
    "from sklearn.metrics import accuracy_score, precision_score, recall_score, f1_score\n",
    "\n",
    "# 4. تجربة عدة قيم للعتبة وتقييم الأداء لكل عتبة\n",
    "thresholds = [0.1, 0.3, 0.5, 0.7, 0.9]\n",
    "\n",
    "print(\"--- تقييم الأداء بناءً على عتبات مختلفة ---\")\n",
    "\n",
    "for threshold in thresholds:\n",
    "    # 5. تطبيق العتبة المخصصة لتحويل الاحتمالات إلى تنبؤات ثنائية (0 أو 1)\n",
    "    # probas[:, 1] هي احتمالات أن تكون الرسالة من فئة spam\n",
    "    y_pred_custom = (probas[:, 1] > threshold).astype(int)\n",
    "    \n",
    "    print(f\"\\nالأداء عند العتبة = {threshold}:\")\n",
    "     # 6. قياس المقاييس\n",
    "    # y_test هي التصنيفات الحقيقية، y_pred_custom هي تنبؤاتنا\n",
    "    accuracy = accuracy_score(y_test, y_pred_custom)\n",
    "    precision = precision_score(y_test, y_pred_custom, pos_label=1)\n",
    "    recall = recall_score(y_test, y_pred_custom, pos_label=1)\n",
    "    f1 = f1_score(y_test, y_pred_custom, pos_label=1)\n",
    "    \n",
    "    print(f\"  الدقة (Accuracy):  {accuracy:.4f}\")\n",
    "    print(f\"  الدقة (Precision): {precision:.4f}\")\n",
    "    print(f\"  الاستدعاء (Recall): {recall:.4f}\")\n",
    "    print(f\"  F1-Score:        {f1:.4f}\")"
   ]
  },
  {
   "cell_type": "markdown",
   "id": "1dea18ad-efba-45fa-9ad6-3028ab54078c",
   "metadata": {},
   "source": [
    "نتذكر دائمًا أن الهدف هو تصنيف رسائل  spam الفئة 1\r\n",
    "Precision (الدقة: إذا قال النموذج \"هذه رسالة Spam\"، ما مدى ثقتنا بأنه على حق؟ (جودة التنبؤات الإيجابية).\r\n",
    "Recall (الاستدعاء: من بين كل رسائل الـ Spam الحقيقية، كم عدد الرسائل التي نجح النموذج في \"اصطيادها\"؟ (كمية التنبؤات الإيجابية الصحيحة)ض.\r\n",
    "________________________________________\r\n",
    "1. العتبة = 0.1 (النموذج المتساهل جدًا)\r\n",
    "السلوك: النموذج هنا \"متوتر\" جدًا. أي رسالة لديها حتى 10% فرصة لتكون spam، سيصنفها على أنها spam.\r\n",
    "النتائج:\r\n",
    "Recall: 0.9853 (ممتاز): نجح في اصطياد 98.5%  من كل رسائل السبام الحقيقية. لم يفوّت أي شيء تقريبًا.\r\n",
    "Precision: 0.2780 (سيء جدًا): عندما قال \"هذه سبام\"، كان على حق فقط في 27.8% من الحالات. هذا يعني أنه أخطأ وصنف الكثير من رسائل  ham العادية على أنها spam.\r\n",
    "الخلاصة: هذا النموذج يحمينا من كل السبام، لكنه مزعج جدًا لأنه يملأ صندوق البريد المزعج برسائل مهمة. غير قابل للاستخدام.\r\n",
    "2. العتبة = 0.3 (النموذج الحذر)\r\n",
    "السلوك: أكثر توازنًا بقليل، لكنه لا يزال يميل إلى تصنيف الرسائل كـ spam بسهولة.\r\n",
    "النتائج:\r\n",
    "Recall: 0.9632 (لا يزال ممتازًا): ما زال يلتقط الغالبية العظمى من رسائل السبام.\r\n",
    "Precision: 0.5928 (تحسن كبير): أصبح أكثر دقة، لكنه لا يزال يخطئ في حوالي 40% من تنبؤاته.\r\n",
    "F1-Score: 0.7339: مقياس F1 (الذي يوازن بين Precision و Recall) تحسن بشكل كبير.\r\n",
    "3. العتبة = 0.5 (العتبة الافتراضية - نقطة انطلاق جيدة)\r\n",
    "السلوك: النقطة المرجعية القياسية. يصنف الرسالة كـ spam إذا كانت احتمالية كونها spam أكبر من احتمالية كونها ham.\r\n",
    "النتائج:\r\n",
    "Recall: 0.9338 (جيد جدًا): لا يزال يكتشف 93% من السبام.\r\n",
    "Precision: 0.7697 (جيد): عندما يصنف رسالة كـ spam، يكون على حق في 77% من الحالات.\r\n",
    "F1-Score: 0.8439: توازن جيد جدًا بين الدقة والاستدعاء.\r\n",
    "4. العتبة = 0.7 (النموذج المتوازن والأفضل على الأرجح)\r\n",
    "السلوك: النموذج هنا أكثر \"ثقة\". لا يصنف الرسالة كـ spam إلا إذا كان متأكدًا بنسبة 70% على الأقل.\r\n",
    "النتائج:\r\n",
    "Recall: 0.8750 (جيد): بدأ يفوت بعض رسائل السبام (حوالي 12.5% منها ستصل إلى بريدك الوارد)، لكنه لا يزال يكتشف الأغلبية.\r\n",
    "Precision: 0.8623 (جيد جدًا): أصبح أكثر جدارة بالثقة. عندما يقول \"سبام\"، فهو على حق بنسبة 86%.\r\n",
    "F1-Score: 0.8686 (الأعلى!): هذه هي أعلى قيمة F1-score، مما يشير إلى أن هذه العتبة تقدم أفضل توازن شامل بين عدم تفويت رسائل السبام (Recall) وعدم تصنيف الرسائل العادية بشكل خاطئ (Precision).\r\n",
    "5. العتبة = 0.9 (النموذج المتشدد جدًا)\r\n",
    "السلوك: النموذج \"شكاك\" للغاية. لن يصنف أي شيء كـ spam إلا إذا كان متأكدًا بنسبة 90%\r\n",
    "النتائج:\r\n",
    "Recall: 0.5221 (سيء): فشل في اكتشاف ما يقرب من نصف رسائل السبام الحقيقية. الكثير من السبام سيتسلل إلى صندوق الوارد الخاص بك.\r\n",
    "Precision: 0.9221 (ممتاز): لكن عندما يتخذ قرارًا، فهو صحيح دائمًا تقريبًا. إذا قال \"سبام\"، يمكنك الوثوق به تمامًا.\r\n",
    "الخلاصة: هذا النموذج آمن جدًا من حيث عدم ارتكاب أخطاء، لكنه غير فعال في حمايتك.\r\n",
    "________________________________________\r\n",
    "الاستنتاج النهائي: ما هي أفضل عتبة؟\r\n",
    "بناءً على هذه النتائج، العتبة 0.7 تبدو هي الخيار الأمثل.\r\n",
    "لماذا؟ لأنها تحقق أعلى F1-Score (0.8686)، مما يعني أنها توفر أفضل حل وسط بين:\r\n",
    "التقاط عدد كبير من رسائل السبام (Recall جيد).\r\n",
    "الحفاظ على ثقة المستخدم عن طريق عدم ارتكاب الكثير من الأخطاء (Precision جيد جدًا).\r\n"
   ]
  },
  {
   "cell_type": "markdown",
   "id": "0af6406a-76a3-468a-b46f-5e5445270bbe",
   "metadata": {},
   "source": [
    "لا يمكن استخدام  cross_val_score بشكل مباشر لتقييم العتبات المختلفة. الحل هو بناء حلقة تقييم متقاطع يدوية (Manual Cross-Validation Loop)\n",
    "في هذا الكود، سنقوم بما يلي:\n",
    "نقوم بتقسيم البيانات إلى طيات (folds) باستخدام StratifiedKFold لضمان أن كل طية تحتوي على نفس نسبة فئات spam  و ham\n",
    "لكل طية:\n",
    "نستخدم جزءًا من البيانات للتدريب.\n",
    "نستخدم الجزء المتبقي للتقييم.\n",
    "نحصل على احتمالات التنبؤ للجزء المخصص للتقييم.\n",
    "نطبق العتبات المختلفة على هذه الاحتمالات.\n",
    "نحسب جميع المقاييس (Precision, Recall, F1-score).\n",
    "في النهاية، نقوم بحساب متوسط المقاييس لجميع الطيات، مما يعطينا تقييمًا موثوقًا لأداء كل عتبة.\n"
   ]
  },
  {
   "cell_type": "code",
   "execution_count": 23,
   "id": "8ace77b6-d4c3-4d45-b432-0f42fc632d1b",
   "metadata": {},
   "outputs": [
    {
     "name": "stdout",
     "output_type": "stream",
     "text": [
      "--- بدء التقييم المتقاطع لجميع العتبات ---\n",
      "\n",
      "--- النتائج النهائية بعد التقييم المتقاطع ---\n",
      "\n",
      "الأداء عند العتبة = 0.1:\n",
      "  - متوسط الدقة (Accuracy):  0.6539\n",
      "  - متوسط الدقة (Precision): 0.2635\n",
      "  - متوسط الاستدعاء (Recall): 0.9938\n",
      "  - متوسط F1-Score:        0.4165\n",
      "\n",
      "الأداء عند العتبة = 0.3:\n",
      "  - متوسط الدقة (Accuracy):  0.9221\n",
      "  - متوسط الدقة (Precision): 0.6249\n",
      "  - متوسط الاستدعاء (Recall): 0.9517\n",
      "  - متوسط F1-Score:        0.7538\n",
      "\n",
      "الأداء عند العتبة = 0.5:\n",
      "  - متوسط الدقة (Accuracy):  0.9628\n",
      "  - متوسط الدقة (Precision): 0.8221\n",
      "  - متوسط الاستدعاء (Recall): 0.8955\n",
      "  - متوسط F1-Score:        0.8571\n",
      "\n",
      "الأداء عند العتبة = 0.7:\n",
      "  - متوسط الدقة (Accuracy):  0.9659\n",
      "  - متوسط الدقة (Precision): 0.8993\n",
      "  - متوسط الاستدعاء (Recall): 0.8175\n",
      "  - متوسط F1-Score:        0.8563\n",
      "\n",
      "الأداء عند العتبة = 0.9:\n",
      "  - متوسط الدقة (Accuracy):  0.9368\n",
      "  - متوسط الدقة (Precision): 0.9424\n",
      "  - متوسط الاستدعاء (Recall): 0.5242\n",
      "  - متوسط F1-Score:        0.6730\n"
     ]
    }
   ],
   "source": [
    "from sklearn.model_selection import StratifiedKFold\n",
    "import numpy as np\n",
    "\n",
    "X = X.tocsr()\n",
    "# 1. تحديد العتبات التي نريد اختبارها\n",
    "thresholds = [0.1, 0.3, 0.5, 0.7, 0.9]\n",
    "\n",
    "# 2. إعداد التقييم المتقاطع (Stratified K-Fold)\n",
    "# نستخدم 5 طيات\n",
    "cv = StratifiedKFold(n_splits=5, shuffle=True, random_state=42)\n",
    "\n",
    "# 3. إعداد نموذج الانحدار اللوجستي\n",
    "model = LogisticRegression(class_weight='balanced', solver='liblinear', random_state=42)\n",
    "\n",
    "# 4. قواميس لتخزين النتائج لكل عتبة\n",
    "results = {\n",
    "    'accuracy': {thr: [] for thr in thresholds},\n",
    "    'precision': {thr: [] for thr in thresholds},\n",
    "    'recall': {thr: [] for thr in thresholds},\n",
    "    'f1': {thr: [] for thr in thresholds}\n",
    "}\n",
    "\n",
    "# 5. حلقة التقييم المتقاطع الرئيسية\n",
    "print(\"--- بدء التقييم المتقاطع لجميع العتبات ---\")\n",
    "for fold, (train_index, test_index) in enumerate(cv.split(X, y)):\n",
    "    #print(f\"|--- الطية رقم {fold+1} ---|\")\n",
    "    \n",
    "    # تقسيم البيانات في كل طية\n",
    "    X_train, X_test = X[train_index], X[test_index]\n",
    "    y_train, y_test = y.iloc[train_index], y.iloc[test_index]\n",
    "    \n",
    "    # تدريب النموذج على بيانات التدريب للطية الحالية\n",
    "    model.fit(X_train, y_train)\n",
    "    \n",
    "    # الحصول على احتمالات التنبؤ لبيانات الاختبار\n",
    "    probas_spam = model.predict_proba(X_test)[:, 1]\n",
    "    \n",
    "    # تقييم أداء كل عتبة على بيانات الاختبار لهذه الطية\n",
    "    for threshold in thresholds:\n",
    "        y_pred = (probas_spam >= threshold).astype(int)\n",
    "        \n",
    "        # حساب المقاييس وتخزينها\n",
    "        results['accuracy'][threshold].append(accuracy_score(y_test, y_pred))\n",
    "        results['precision'][threshold].append(precision_score(y_test, y_pred, zero_division=0))\n",
    "        results['recall'][threshold].append(recall_score(y_test, y_pred, zero_division=0))\n",
    "        results['f1'][threshold].append(f1_score(y_test, y_pred, zero_division=0))\n",
    "\n",
    "# 6. طباعة متوسط النتائج لكل عتبة\n",
    "print(\"\\n--- النتائج النهائية بعد التقييم المتقاطع ---\")\n",
    "for threshold in thresholds:\n",
    "    print(f\"\\nالأداء عند العتبة = {threshold}:\")\n",
    "    print(f\"  - متوسط الدقة (Accuracy):  {np.mean(results['accuracy'][threshold]):.4f}\")\n",
    "    print(f\"  - متوسط الدقة (Precision): {np.mean(results['precision'][threshold]):.4f}\")\n",
    "    print(f\"  - متوسط الاستدعاء (Recall): {np.mean(results['recall'][threshold]):.4f}\")\n",
    "    print(f\"  - متوسط F1-Score:        {np.mean(results['f1'][threshold]):.4f}\")\n"
   ]
  },
  {
   "cell_type": "markdown",
   "id": "79effbc0-792f-4abe-a4c2-e74b742a4651",
   "metadata": {},
   "source": [
    "قراءة النتائج النهائية\r\n",
    "العلاقة العكسية بين Precision و Recall واضحة جدًا هنا ولكن هذه الأرقام أكثر استقرارًا لأنها متوسط أداء النموذج عبر 5 تجارب مختلفة.\r\n",
    "عتبة 0.1 و 0.3: لا تزال غير عملية. الـ Recall ممتاز ولكنه يأتي على حساب Precision منخفض جدًا، مما يعني الكثير من الأخطاء في تصنيف الرسائل العادية.\r\n",
    "عتبة 0.9: لا تزال متشددة جدًا. الـ Precision شبه مثالي، لكنها تفوت ما يقرب من نصف رسائل السبام (Recall = 0.52)، مما يجعلها غير فعالة.\r\n",
    "القرار الحقيقي يقع بين عتبة 0.5 و 0.7.\r\n",
    "المعركة النهائية: عتبة 0.5 ضد عتبة 0.7\r\n",
    "هنا يصبح القرار استراتيجيًا ويعتمد على \"ما هو الأهم بالنسبة لي؟\"\r\n",
    "الأداء عند العتبة = 0.5:\r\n",
    "متوسط F1-Score: 0.8571 (الأعلى)\r\n",
    "Precision: 0.8221 (جيد جدًا): عندما يقول \"سبام\"، فهو على حق بنسبة 82%.\r\n",
    "Recall: 0.8955 (ممتاز): ينجح في التقاط حوالي 90% من كل رسائل السبام.\r\n",
    "الأداء عند العتبة = 0.7:\r\n",
    "متوسط F1-Score: 0.8563 (قريب جدًا من الأعلى)\r\n",
    "Precision: 0.8993 (ممتاز): عندما يقول \"سبام\"، فهو على حق بنسبة 90%. هذا يقلل بشكل كبير من احتمالية إزعاج المستخدم بتصنيف خاطئ.\r\n",
    "Recall: 0.8175 (جيد): لكن هذا يأتي على حساب تفويت عدد أكبر من رسائل السبام (حوالي 18% منها ستصل لصندوق الوارد).\r\n",
    "اتخاذ القرار النهائي: ما هو الخيار الأفضل؟\r\n",
    "بناءً على هذه النتائج الموثوقة، العتبة 0.5 هي الفائزة.\r\n",
    "لماذا؟\r\n",
    "أعلى F1-Score: من منظور إحصائي بحت، هي تحقق أفضل توازن رياضي بين Precision و Recall\r\n",
    "Recall مرتفع جدًا: في معظم تطبيقات فلترة السبام، يُعتبر تفويت رسالة سبام (False Negative) أمرًا مزعجًا، لكن تصنيف رسالة مهمة على أنها سبام (False Positive) يمكن أن يكون كارثيًا (قد تفوتك مقابلة عمل، فاتورة، أو رسالة عائلية). ومع ذلك، فإن الـ Recall عند عتبة 0.5 (حوالي 90%) لا يزال قويًا جدًا ويقدم حماية ممتازة.\r\n",
    "توازن عملي: عتبة 0.5 تقدم أفضل \"صفقة\" شاملة. تحصل على حماية قوية جدًا من السبام (Recall عالٍ) مع الحفاظ على مستوى جيد جدًا من الثقة في التنبؤات (Precision جيد).\r\n",
    "بينما تقدم عتبة 0.7 دقة (Precision) أعلى، فإن التضحية في الـ Recall (من 90% إلى 82%) كبيرة جدًا. من الأفضل التقاط المزيد من السبام حتى لو كان ذلك يعني وجود عدد قليل جدًا من الأخطاء الإضافية.\r\n",
    "\r\n"
   ]
  },
  {
   "cell_type": "code",
   "execution_count": 24,
   "id": "537139e2-6d60-4997-9cbf-f5fd20e96b1d",
   "metadata": {},
   "outputs": [
    {
     "name": "stdout",
     "output_type": "stream",
     "text": [
      "بدء التقييم المتقاطع...\n",
      "--------------------------------------------------\n",
      "تقييم نموذج: Decision Tree (max_depth=10)\n",
      "  - متوسط F1-Score: 0.7173 (+/- 0.0072)\n",
      "--------------------------------------------------\n",
      "تقييم نموذج: Naive Bayes (MultinomialNB)\n",
      "  - متوسط F1-Score: 0.1933 (+/- 0.0347)\n",
      "--------------------------------------------------\n",
      "تقييم نموذج: Logistic Regression\n",
      "  - متوسط F1-Score: 0.7829 (+/- 0.0371)\n",
      "--------------------------------------------------\n",
      "تقييم نموذج: SVM (linear)\n",
      "  - متوسط F1-Score: 0.9056 (+/- 0.0192)\n",
      "--------------------------------------------------\n",
      "تقييم نموذج: SVM (rbf)\n",
      "  - متوسط F1-Score: 0.8063 (+/- 0.0278)\n",
      "--------------------------------------------------\n",
      "تقييم نموذج: KNN (k=3)\n",
      "  - متوسط F1-Score: 0.5329 (+/- 0.0309)\n",
      "--------------------------------------------------\n",
      "تقييم نموذج: KNN (k=5)\n",
      "  - متوسط F1-Score: 0.3860 (+/- 0.0384)\n",
      "--------------------------------------------------\n",
      "\n",
      "--- مقارنة أداء النماذج النهائية (متوسط F1-Score) ---\n",
      "                       Model  Mean F1-Score  Std F1-Score\n",
      "                SVM (linear)       0.905560      0.019167\n",
      "                   SVM (rbf)       0.806280      0.027829\n",
      "         Logistic Regression       0.782892      0.037087\n",
      "Decision Tree (max_depth=10)       0.717348      0.007190\n",
      "                   KNN (k=3)       0.532915      0.030872\n",
      "                   KNN (k=5)       0.385955      0.038387\n",
      " Naive Bayes (MultinomialNB)       0.193301      0.034728\n"
     ]
    }
   ],
   "source": [
    "from sklearn.pipeline import Pipeline\n",
    "from sklearn.preprocessing import MaxAbsScaler # جيد للبيانات المتناثرة\n",
    "import pandas as pd\n",
    "from sklearn.model_selection import cross_val_score, StratifiedKFold\n",
    "from sklearn.metrics import make_scorer, f1_score, precision_score, recall_score, accuracy_score\n",
    "from sklearn.tree import DecisionTreeClassifier\n",
    "from sklearn.neighbors import KNeighborsClassifier\n",
    "from sklearn.svm import SVC\n",
    "from sklearn.naive_bayes import MultinomialNB\n",
    "from sklearn.linear_model import LogisticRegression\n",
    "import numpy as np\n",
    "\n",
    "# 1. تعريف المقاييس التي نريد استخدامها\n",
    "# نستخدم F1-score لأنه أفضل للبيانات غير المتوازنة\n",
    "scoring_metrics = {\n",
    "    'accuracy': make_scorer(accuracy_score),\n",
    "    'precision': make_scorer(precision_score, pos_label=1),\n",
    "    'recall': make_scorer(recall_score, pos_label=1),\n",
    "    'f1_score': make_scorer(f1_score, pos_label=1)\n",
    "}\n",
    "\n",
    "\n",
    "# 2. إعداد قائمة بالنماذج المراد اختبارها\n",
    "models = [\n",
    "    ('Decision Tree (max_depth=10)', DecisionTreeClassifier(max_depth=10, random_state=42)),\n",
    "    ('Naive Bayes (MultinomialNB)', MultinomialNB()), # لا يحتاج تحجيم\n",
    "    ('Logistic Regression', LogisticRegression(random_state=42, solver='liblinear')), # أقل حساسية، لكن التحجيم لا يضر\n",
    "    \n",
    "    # استخدام Pipeline للنماذج الحساسة للمسافة\n",
    "    ('SVM (linear)', Pipeline([('scaler', MaxAbsScaler()), ('svc', SVC(kernel='linear', random_state=42))])),\n",
    "    ('SVM (rbf)', Pipeline([('scaler', MaxAbsScaler()), ('svc', SVC(kernel='rbf', random_state=42))])),\n",
    "    ('KNN (k=3)', Pipeline([('scaler', MaxAbsScaler()), ('knn', KNeighborsClassifier(n_neighbors=3))])),\n",
    "    ('KNN (k=5)', Pipeline([('scaler', MaxAbsScaler()), ('knn', KNeighborsClassifier(n_neighbors=5))])),\n",
    "]\n",
    "\n",
    "# 3. إعداد التقييم المتقاطع (StratifiedKFold)\n",
    "# StratifiedKFold يحافظ على نسبة الفئات في كل fold\n",
    "cv_folds = StratifiedKFold(n_splits=5, shuffle=True, random_state=42)\n",
    "\n",
    "# 4. تشغيل التقييم المتقاطع لجميع النماذج\n",
    "results = {}\n",
    "print(\"بدء التقييم المتقاطع...\")\n",
    "print(\"-\" * 50)\n",
    "\n",
    "for model_name, model in models:\n",
    "    print(f\"تقييم نموذج: {model_name}\")\n",
    "    model_scores = {}\n",
    "    \n",
    "    # حساب كل مقياس على حدة\n",
    "    for metric_name, scorer in scoring_metrics.items():\n",
    "        scores = cross_val_score(model, X, y, cv=cv_folds, scoring=scorer, n_jobs=-1)\n",
    "        model_scores[metric_name] = {\n",
    "            'mean': np.mean(scores),\n",
    "            'std': np.std(scores)\n",
    "        }\n",
    "    \n",
    "    results[model_name] = model_scores\n",
    "    print(f\"  - متوسط F1-Score: {model_scores['f1_score']['mean']:.4f} (+/- {model_scores['f1_score']['std']:.4f})\")\n",
    "    print(\"-\" * 50)\n",
    "\n",
    "# 5. عرض النتائج النهائية في جدول\n",
    "print(\"\\n--- مقارنة أداء النماذج النهائية (متوسط F1-Score) ---\")\n",
    "final_comparison = pd.DataFrame({\n",
    "    'Model': [name for name, _ in models],\n",
    "    'Mean F1-Score': [results[name]['f1_score']['mean'] for name, _ in models],\n",
    "    'Std F1-Score': [results[name]['f1_score']['std'] for name, _ in models]\n",
    "})\n",
    "final_comparison = final_comparison.sort_values(by='Mean F1-Score', ascending=False)\n",
    "print(final_comparison.to_string(index=False))"
   ]
  },
  {
   "cell_type": "markdown",
   "id": "35df97c2-d539-4905-b081-4eaa77734cf7",
   "metadata": {},
   "source": [
    "التحليل العميق للنتائج:\n",
    "1.  النموذج الفائز: SVM (linear)\n",
    "F1-Score: 0.9056\n",
    "لماذا؟ لقد حدث شيئان هنا:\n",
    "تحجيم الميزات (Scaling): باستخدام Pipeline و MaxAbsScaler، أعطينا نموذج SVM فرصة عادلة للعمل لأن  Message_Length لم   تهيمن على القرار، وأصبح النموذج قادرًا على استخدام آلاف الميزات النصية من TF-IDF بفعالية.\n",
    "طبيعة المشكلة: نموذج  SVM الخطي يتألق في مشاكل تصنيف النصوص عالية الأبعاد (high-dimensional) مثل هذه. الفكرة هي أنه في فضاء يحتوي على 5001 بُعد (ميزة)، غالبًا ما يكون من الممكن إيجاد \"سطح فاصل\" (hyperplane) يمكنه الفصل بين الفئتين (ham و spam) بشكل فعال جدًا.\n",
    "الاستنتاج: لقد أثبت SVM (linear) أنه النموذج الأقوى لهذه المهمة المحددة، متفوقًا بفارق كبير على جميع المنافسين.\n",
    "2. الوصيف القوي: SVM (rbf)\n",
    "F1-Score: 0.8063\n",
    "لماذا؟ هذا النموذج استفاد أيضًا بشكل كبير من تحجيم الميزات. نواة RBF قادرة على إيجاد حدود قرار معقدة وغير خطية. ومع ذلك، يبدو أن المشكلة في جوهرها \"خطية\" بما يكفي بحيث كان النموذج الخطي البسيط أكثر فعالية.\n",
    "3. الأداء المتواضع: Logistic Regression و Decision Tree\n",
    "Logistic Regression (F1: 0.7829): لا يزال يقدم أداءً جيدًا ومحترمًا، لكنه ببساطة لا يستطيع منافسة قوة SVM في هذا الفضاء عالي الأبعاد.\n",
    "Decision Tree (F1: 0.7173): أشجار القرار لا تعمل بشكل جيد عادةً مع البيانات المتناثرة جدًا وعالية الأبعاد مثل هذه.\n",
    "4. الأداء المخيب للآمال: KNN و Naive Bayes\n",
    "KNN (F1: 0.53 و 0.38): على الرغم من أننا قمنا بتحجيم الميزات، إلا أن KNN يعاني من مشكلة تسمى \"لعنة الأبعاد\" (Curse of Dimensionality). في فضاء يحتوي على 5001 بُعد، يصبح مفهوم \"المسافة\" أو \"الجوار\" أقل معنى. كل النقاط تبدو بعيدة عن بعضها البعض، مما يجعل من الصعب على النموذج العثور على جيران مفيدين.\n",
    "Naive Bayes (F1: 0.1933): هذا هو الأداء الأسوأ والمفاجئ. غالبًا ما يكون Naive Bayes نقطة انطلاق جيدة لتصنيف النصوص. الأداء الضعيف هنا قد يعود إلى أن أحد الافتراضات الأساسية للنموذج - وهو أن الميزات مستقلة عن بعضها البعض - قد تم انتهاكه بشدة بعد دمج ميزة Message_Length القوية جدًا. أصبح النموذج مرتبكًا بسبب وجود ميزة واحدة (الطول) لها علاقة قوية جدًا بالتصنيف، وهو ما يتعارض مع افتراض الاستقلالية\n"
   ]
  }
 ],
 "metadata": {
  "kernelspec": {
   "display_name": "Python 3 (ipykernel)",
   "language": "python",
   "name": "python3"
  },
  "language_info": {
   "codemirror_mode": {
    "name": "ipython",
    "version": 3
   },
   "file_extension": ".py",
   "mimetype": "text/x-python",
   "name": "python",
   "nbconvert_exporter": "python",
   "pygments_lexer": "ipython3",
   "version": "3.12.7"
  }
 },
 "nbformat": 4,
 "nbformat_minor": 5
}
